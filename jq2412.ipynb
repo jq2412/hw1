{
  "nbformat": 4,
  "nbformat_minor": 0,
  "metadata": {
    "colab": {
      "provenance": [],
      "authorship_tag": "ABX9TyOxlFzm1Xz0fPza9tSglW2L",
      "include_colab_link": true
    },
    "kernelspec": {
      "name": "python3",
      "display_name": "Python 3"
    },
    "language_info": {
      "name": "python"
    }
  },
  "cells": [
    {
      "cell_type": "markdown",
      "metadata": {
        "id": "view-in-github",
        "colab_type": "text"
      },
      "source": [
        "<a href=\"https://colab.research.google.com/github/jq2412/hw1/blob/main/jq2412.ipynb\" target=\"_parent\"><img src=\"https://colab.research.google.com/assets/colab-badge.svg\" alt=\"Open In Colab\"/></a>"
      ]
    },
    {
      "cell_type": "code",
      "execution_count": 1,
      "metadata": {
        "id": "ze2P8uZdlLLk"
      },
      "outputs": [],
      "source": [
        "# Identify yourself for grading\n",
        "\n",
        "def WhoAmI():\n",
        "    return('jq2412')\n"
      ]
    },
    {
      "cell_type": "code",
      "source": [
        "def getBondPrice(y, face, couponRate, m, ppy=1):\n",
        "    df0=1/(1+y/ppy)\n",
        "    dcf=0\n",
        "    df=1\n",
        "    cpn=couponRate*face/ppy\n",
        "    for i in range(1,m*ppy+1):\n",
        "      df*=df0\n",
        "      dcf+=cpn*df\n",
        "      print(i,df)\n",
        "\n",
        "    bondPrice=dcf+face*df\n",
        "\n",
        "    return(bondPrice)\n",
        "\n",
        "# Test values\n",
        "\n",
        "y = 0.03\n",
        "face = 2000000\n",
        "couponRate = 0.04\n",
        "m = 10\n",
        "ppy = 1\n",
        "ppy = 2\n",
        "\n",
        "getBondPrice(y, face, couponRate, m, ppy)"
      ],
      "metadata": {
        "colab": {
          "base_uri": "https://localhost:8080/"
        },
        "id": "F8MtMxUrlv9i",
        "outputId": "71b1da6d-9b9e-4317-9794-1d0af03d05c8"
      },
      "execution_count": 2,
      "outputs": [
        {
          "output_type": "stream",
          "name": "stdout",
          "text": [
            "1 0.9852216748768474\n",
            "2 0.9706617486471404\n",
            "3 0.9563169937410252\n",
            "4 0.9421842302867245\n",
            "5 0.92826032540564\n",
            "6 0.914542192517872\n",
            "7 0.9010267906580022\n",
            "8 0.8877111238009875\n",
            "9 0.8745922401980173\n",
            "10 0.8616672317221846\n",
            "11 0.8489332332238273\n",
            "12 0.8363874218953965\n",
            "13 0.824027016645711\n",
            "14 0.8118492774834593\n",
            "15 0.7998515049098122\n",
            "16 0.7880310393200121\n",
            "17 0.7763852604138051\n",
            "18 0.7649115866145864\n",
            "19 0.7536074744971295\n",
            "20 0.742470418223773\n"
          ]
        },
        {
          "output_type": "execute_result",
          "data": {
            "text/plain": [
              "2171686.3878508243"
            ]
          },
          "metadata": {},
          "execution_count": 2
        }
      ]
    },
    {
      "cell_type": "code",
      "source": [
        "def getBondDuration(y,face,couponRate,m,ppy=1):\n",
        "  cf = couponRate * face / ppy\n",
        "  totalPVCF = 0\n",
        "  totalWeightedPVCF = 0\n",
        "\n",
        "  for i in range (1,m*ppy+1):\n",
        "    df = 1 / (1+y/ppy) ** i\n",
        "    if i == m*ppy:\n",
        "      pvcf= (cf+face) * df\n",
        "    else:\n",
        "      pvcf= cf * df\n",
        "    totalPVCF += pvcf\n",
        "    totalWeightedPVCF +=i* pvcf\n",
        "\n",
        "  bondDuration = totalWeightedPVCF / totalPVCF\n",
        "  return(bondDuration)\n",
        "\n",
        "#Test values\n",
        "y = 0.03\n",
        "face = 2000000\n",
        "couponRate = 0.04\n",
        "m = 10\n",
        "ppy = 1\n",
        "\n",
        "getBondDuration(y , face , couponRate , m , ppy)"
      ],
      "metadata": {
        "colab": {
          "base_uri": "https://localhost:8080/"
        },
        "id": "Lvujb3NKmA-e",
        "outputId": "31259a08-7f22-4728-9552-8d610be5e2d4"
      },
      "execution_count": 3,
      "outputs": [
        {
          "output_type": "execute_result",
          "data": {
            "text/plain": [
              "8.508690304459575"
            ]
          },
          "metadata": {},
          "execution_count": 3
        }
      ]
    },
    {
      "cell_type": "code",
      "source": [
        "def getBondPrice_E(face, couponRate, m, yc):\n",
        "    bondPrice = 0\n",
        "    coupon = face * couponRate\n",
        "\n",
        "    for t, rate in enumerate(yc, start=1):\n",
        "        if t == m:\n",
        "            cashflow = coupon + face\n",
        "        else:\n",
        "            cashflow = coupon\n",
        "\n",
        "        pv_factor = 1 / ((1 + rate) ** t)\n",
        "        bondPrice += cashflow * pv_factor\n",
        "\n",
        "    return bondPrice\n",
        "\n",
        "# Test values\n",
        "yc = [.010, .015, .020, .025, .030]\n",
        "face = 2000000\n",
        "couponRate = 0.04\n",
        "maturity = 5\n",
        "\n",
        "bond_price = getBondPrice_E(face, couponRate, maturity, yc)\n",
        "print(f\"Bond Price: ${bond_price:,.2f}\")"
      ],
      "metadata": {
        "colab": {
          "base_uri": "https://localhost:8080/"
        },
        "id": "JPD7CT8lmHir",
        "outputId": "894c49e1-c4fd-4049-fe5f-62724f230bc7"
      },
      "execution_count": 4,
      "outputs": [
        {
          "output_type": "stream",
          "name": "stdout",
          "text": [
            "Bond Price: $2,098,948.97\n"
          ]
        }
      ]
    },
    {
      "cell_type": "code",
      "source": [
        "def getBondPrice_Z(face, couponRate, times, yc):\n",
        "    pvcf_sum = 0\n",
        "\n",
        "    for t, rate in zip(times, yc):\n",
        "        pv = (1 / (1 + rate) ** t)\n",
        "        cf = face * couponRate\n",
        "        if t == max(times):\n",
        "            cf += face\n",
        "        pvcf = pv * cf\n",
        "        pvcf_sum += pvcf\n",
        "\n",
        "    bond_price = pvcf_sum\n",
        "    return bond_price\n",
        "\n",
        "# Test values\n",
        "yc = [0.010, 0.015, 0.020, 0.025, 0.030]\n",
        "times = [1, 1.5, 3, 4, 7]\n",
        "face = 2000000\n",
        "couponRate = 0.04\n",
        "\n",
        "bond_price_z = getBondPrice_Z(face, couponRate, times, yc)\n",
        "\n",
        "print(\"Bond Price Z: $\", format(bond_price_z, \",.2f\"))"
      ],
      "metadata": {
        "colab": {
          "base_uri": "https://localhost:8080/"
        },
        "id": "plv-CtNOmPKg",
        "outputId": "352a5c86-ac1c-49d1-b594-07f8a7d7c9b6"
      },
      "execution_count": 5,
      "outputs": [
        {
          "output_type": "stream",
          "name": "stdout",
          "text": [
            "Bond Price Z: $ 1,996,533.27\n"
          ]
        }
      ]
    },
    {
      "cell_type": "code",
      "source": [
        "def FizzBuzz(start, finish):\n",
        "    outlist = []\n",
        "    for i in range(start, finish + 1):\n",
        "        if i % 3 == 0 and i % 5 == 0:\n",
        "            outlist.append(\"fizzbuzz\")\n",
        "        elif i % 3 == 0:\n",
        "            outlist.append(\"fizz\")\n",
        "        elif i % 5 == 0:\n",
        "            outlist.append(\"buzz\")\n",
        "        else:\n",
        "            outlist.append(str(i))\n",
        "    return outlist\n",
        "\n",
        "# Test the function\n",
        "start = 1\n",
        "finish = 15\n",
        "result = FizzBuzz(start, finish)\n",
        "\n",
        "print(result)"
      ],
      "metadata": {
        "colab": {
          "base_uri": "https://localhost:8080/"
        },
        "id": "56nBvRKgmaHb",
        "outputId": "48eeb7d4-52be-4651-c58d-519acd12614c"
      },
      "execution_count": 6,
      "outputs": [
        {
          "output_type": "stream",
          "name": "stdout",
          "text": [
            "['1', '2', 'fizz', '4', 'buzz', 'fizz', '7', '8', 'fizz', 'buzz', '11', 'fizz', '13', '14', 'fizzbuzz']\n"
          ]
        }
      ]
    },
    {
      "cell_type": "code",
      "source": [
        "import numpy as np\n",
        "\n",
        "horizontal_matrix = np.array([1, 2, 3])\n",
        "vertical_matrix = np.array([1, 4, 7])\n",
        "\n",
        "result = np.dot(horizontal_matrix, vertical_matrix)\n",
        "\n",
        "print(\"The result is:\", result)"
      ],
      "metadata": {
        "colab": {
          "base_uri": "https://localhost:8080/"
        },
        "id": "1Xf2USazmluz",
        "outputId": "85458123-fa8e-4984-fd2d-2f6e4ad56e97"
      },
      "execution_count": 7,
      "outputs": [
        {
          "output_type": "stream",
          "name": "stdout",
          "text": [
            "The result is: 30\n"
          ]
        }
      ]
    },
    {
      "cell_type": "code",
      "source": [
        "import numpy as np\n",
        "\n",
        "horizontal_matrix = np.array([1, 2, 3])\n",
        "\n",
        "matrix_3x3 = np.array([\n",
        "    [1, 2, 3],\n",
        "    [4, 5, 6],\n",
        "    [7, 8, 9]\n",
        "])\n",
        "\n",
        "result = np.dot(horizontal_matrix, matrix_3x3)\n",
        "\n",
        "print(\"The resulting horizontal matrix:\", result)"
      ],
      "metadata": {
        "colab": {
          "base_uri": "https://localhost:8080/"
        },
        "id": "jkP6ayAZmx8E",
        "outputId": "00fc32e0-5a4f-4566-b190-0e18e3692900"
      },
      "execution_count": 8,
      "outputs": [
        {
          "output_type": "stream",
          "name": "stdout",
          "text": [
            "The resulting horizontal matrix: [30 36 42]\n"
          ]
        }
      ]
    }
  ]
}