def getBondDuration(y, face, couponRate, m, ppy = 1):
    <Your work>
    return(bondDuration)



# Test values

y = 0.03
face = 2000000
couponRate = 0.04
m = 10
ppy = 1

