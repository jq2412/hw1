{
  "nbformat": 4,
  "nbformat_minor": 0,
  "metadata": {
    "colab": {
      "provenance": [],
      "authorship_tag": "ABX9TyNlEPv13g6O3vgJDlNzk1Qj",
      "include_colab_link": true
    },
    "kernelspec": {
      "name": "python3",
      "display_name": "Python 3"
    },
    "language_info": {
      "name": "python"
    }
  },
  "cells": [
    {
      "cell_type": "markdown",
      "metadata": {
        "id": "view-in-github",
        "colab_type": "text"
      },
      "source": [
        "<a href=\"https://colab.research.google.com/github/jq2412/hw1/blob/main/getBondPrice_E.ipynb\" target=\"_parent\"><img src=\"https://colab.research.google.com/assets/colab-badge.svg\" alt=\"Open In Colab\"/></a>"
      ]
    },
    {
      "cell_type": "code",
      "execution_count": 5,
      "metadata": {
        "colab": {
          "base_uri": "https://localhost:8080/"
        },
        "id": "Hl4nXWHEMe9D",
        "outputId": "4d9d64a1-e36d-4b80-cfe9-06e2ecdedf3f"
      },
      "outputs": [
        {
          "output_type": "stream",
          "name": "stdout",
          "text": [
            "Bond Price: $2,098,948.97\n"
          ]
        }
      ],
      "source": [
        "def getBondPrice_E(face, couponRate, m, yc):\n",
        "    bondPrice = 0\n",
        "    coupon = face * couponRate\n",
        "\n",
        "    for t, rate in enumerate(yc, start=1):\n",
        "        if t == m:\n",
        "            cashflow = coupon + face\n",
        "        else:\n",
        "            cashflow = coupon\n",
        "\n",
        "        pv_factor = 1 / ((1 + rate) ** t)\n",
        "        bondPrice += cashflow * pv_factor\n",
        "\n",
        "    return bondPrice\n",
        "\n",
        "# Test values\n",
        "yc = [.010, .015, .020, .025, .030]\n",
        "face = 2000000\n",
        "couponRate = 0.04\n",
        "maturity = 5\n",
        "\n",
        "bond_price = getBondPrice_E(face, couponRate, maturity, yc)\n",
        "print(f\"Bond Price: ${bond_price:,.2f}\")\n"
      ]
    }
  ]
}