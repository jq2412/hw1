{
  "nbformat": 4,
  "nbformat_minor": 0,
  "metadata": {
    "colab": {
      "provenance": [],
      "authorship_tag": "ABX9TyNJsRNII6/JXkGZ8nRt4Aqb",
      "include_colab_link": true
    },
    "kernelspec": {
      "name": "python3",
      "display_name": "Python 3"
    },
    "language_info": {
      "name": "python"
    }
  },
  "cells": [
    {
      "cell_type": "markdown",
      "metadata": {
        "id": "view-in-github",
        "colab_type": "text"
      },
      "source": [
        "<a href=\"https://colab.research.google.com/github/jq2412/hw1/blob/main/MatMult1%262.ipynb\" target=\"_parent\"><img src=\"https://colab.research.google.com/assets/colab-badge.svg\" alt=\"Open In Colab\"/></a>"
      ]
    },
    {
      "cell_type": "code",
      "execution_count": 1,
      "metadata": {
        "colab": {
          "base_uri": "https://localhost:8080/"
        },
        "id": "Y-AY278yiqSL",
        "outputId": "e6cb7a9e-952c-41c1-ef65-bd22fddf558b"
      },
      "outputs": [
        {
          "output_type": "stream",
          "name": "stdout",
          "text": [
            "The result is: 30\n"
          ]
        }
      ],
      "source": [
        "import numpy as np\n",
        "\n",
        "horizontal_matrix = np.array([1, 2, 3])\n",
        "vertical_matrix = np.array([1, 4, 7])\n",
        "\n",
        "result = np.dot(horizontal_matrix, vertical_matrix)\n",
        "\n",
        "print(\"The result is:\", result)"
      ]
    },
    {
      "cell_type": "code",
      "source": [
        "import numpy as np\n",
        "\n",
        "horizontal_matrix = np.array([1, 2, 3])\n",
        "\n",
        "matrix_3x3 = np.array([\n",
        "    [1, 2, 3],\n",
        "    [4, 5, 6],\n",
        "    [7, 8, 9]\n",
        "])\n",
        "\n",
        "result = np.dot(horizontal_matrix, matrix_3x3)\n",
        "\n",
        "print(\"The resulting horizontal matrix:\", result)"
      ],
      "metadata": {
        "colab": {
          "base_uri": "https://localhost:8080/"
        },
        "id": "F31kT9NTi34n",
        "outputId": "69e8d90f-cf97-41bf-d68f-89b6ea88f2d1"
      },
      "execution_count": 2,
      "outputs": [
        {
          "output_type": "stream",
          "name": "stdout",
          "text": [
            "The resulting horizontal matrix: [30 36 42]\n"
          ]
        }
      ]
    }
  ]
}