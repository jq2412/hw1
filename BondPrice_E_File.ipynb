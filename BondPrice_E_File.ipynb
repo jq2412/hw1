{
  "nbformat": 4,
  "nbformat_minor": 0,
  "metadata": {
    "colab": {
      "provenance": [],
      "authorship_tag": "ABX9TyNZ8E7w4c0wHMPpLpF42tGj",
      "include_colab_link": true
    },
    "kernelspec": {
      "name": "python3",
      "display_name": "Python 3"
    },
    "language_info": {
      "name": "python"
    }
  },
  "cells": [
    {
      "cell_type": "markdown",
      "metadata": {
        "id": "view-in-github",
        "colab_type": "text"
      },
      "source": [
        "<a href=\"https://colab.research.google.com/github/jq2412/hw1/blob/main/BondPrice_E_File.ipynb\" target=\"_parent\"><img src=\"https://colab.research.google.com/assets/colab-badge.svg\" alt=\"Open In Colab\"/></a>"
      ]
    },
    {
      "cell_type": "code",
      "execution_count": 38,
      "metadata": {
        "colab": {
          "base_uri": "https://localhost:8080/"
        },
        "id": "Hl4nXWHEMe9D",
        "outputId": "b85cf124-f7e7-4421-eeb0-2785d6c3d036"
      },
      "outputs": [
        {
          "output_type": "stream",
          "name": "stdout",
          "text": [
            "Bond Price: $2,098,948.97\n"
          ]
        }
      ],
      "source": [
        "def getBondPrice_E(face, couponRate, yc):\n",
        "    bondPrice = 0\n",
        "    coupon = face * couponRate\n",
        "    maturity = len(yc)\n",
        "\n",
        "    for t, rate in enumerate(yc, start=1):\n",
        "        if t < maturity:\n",
        "            cash_flow = coupon\n",
        "        else:\n",
        "            cash_flow = coupon + face\n",
        "\n",
        "        pv_factor = 1 / ((1 + rate) ** t)\n",
        "        bondPrice += cash_flow * pv_factor\n",
        "\n",
        "    return bondPrice\n",
        "\n",
        "# Test values\n",
        "yc = [.010, .015, .020, .025, .030]\n",
        "face = 2000000\n",
        "couponRate = .04\n",
        "\n",
        "bond_price = getBondPrice_E(face, couponRate, yc)\n",
        "print(f\"Bond Price: ${bond_price:,.2f}\")\n"
      ]
    }
  ]
}