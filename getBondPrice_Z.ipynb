{
  "nbformat": 4,
  "nbformat_minor": 0,
  "metadata": {
    "colab": {
      "provenance": [],
      "authorship_tag": "ABX9TyOHPol0+/IWDkIboCBRSbGj",
      "include_colab_link": true
    },
    "kernelspec": {
      "name": "python3",
      "display_name": "Python 3"
    },
    "language_info": {
      "name": "python"
    }
  },
  "cells": [
    {
      "cell_type": "markdown",
      "metadata": {
        "id": "view-in-github",
        "colab_type": "text"
      },
      "source": [
        "<a href=\"https://colab.research.google.com/github/jq2412/hw1/blob/main/getBondPrice_Z.ipynb\" target=\"_parent\"><img src=\"https://colab.research.google.com/assets/colab-badge.svg\" alt=\"Open In Colab\"/></a>"
      ]
    },
    {
      "cell_type": "code",
      "execution_count": 2,
      "metadata": {
        "colab": {
          "base_uri": "https://localhost:8080/"
        },
        "id": "vEAyd53NcX6o",
        "outputId": "9e375443-2a7c-4dde-8cbf-ed5ea97a47f2"
      },
      "outputs": [
        {
          "output_type": "stream",
          "name": "stdout",
          "text": [
            "Bond Price Z: $ 1,996,533.27\n"
          ]
        }
      ],
      "source": [
        "def getBondPrice_Z(face, couponRate, times, yc):\n",
        "    pvcf_sum = 0\n",
        "\n",
        "    for t, rate in zip(times, yc):\n",
        "        pv = (1 / (1 + rate) ** t)\n",
        "        cf = face * couponRate\n",
        "        if t == max(times):\n",
        "            cf += face\n",
        "        pvcf = pv * cf\n",
        "        pvcf_sum += pvcf\n",
        "\n",
        "    bond_price = pvcf_sum\n",
        "    return bond_price\n",
        "\n",
        "# Test values\n",
        "yc = [0.010, 0.015, 0.020, 0.025, 0.030]\n",
        "times = [1, 1.5, 3, 4, 7]\n",
        "face = 2000000\n",
        "couponRate = 0.04\n",
        "\n",
        "bond_price_z = getBondPrice_Z(face, couponRate, times, yc)\n",
        "\n",
        "print(\"Bond Price Z: $\", format(bond_price_z, \",.2f\"))"
      ]
    }
  ]
}